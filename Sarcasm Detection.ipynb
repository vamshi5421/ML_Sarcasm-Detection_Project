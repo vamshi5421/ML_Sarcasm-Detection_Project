{
 "cells": [
  {
   "cell_type": "markdown",
   "id": "1b7391fb",
   "metadata": {},
   "source": [
    "## Machine Learning Project [CS 306]"
   ]
  },
  {
   "cell_type": "markdown",
   "id": "ca993acd",
   "metadata": {},
   "source": [
    "## What we have done?** \\\n",
    "**We have a dataset of sarcastic Detetion \n",
    "    **There is each dataset, which consists label:** \\\n",
    "        - is_sarcastic: 1 if the dataset is sarcastic, 0 otherwise\\\n",
    "        \n"
   ]
  },
  {
   "cell_type": "markdown",
   "id": "608ab4a8",
   "metadata": {},
   "source": [
    "\n",
    "  **For this task we need to work with the following plan:**\\\n",
    "  \n",
    "    >>> Read and clean the data \n",
    "    >>> Find and visualise most common words \n",
    "    >>> Identify and visualise stop words \n",
    "    >>> Preprocess text \n",
    "    >>> Define classification models \n",
    "    >>> Retrieve and save the best model \n",
    "\n",
    "   "
   ]
  },
  {
   "cell_type": "markdown",
   "id": "fb6d04e0",
   "metadata": {},
   "source": [
    "**Import library necessary**"
   ]
  },
  {
   "cell_type": "code",
   "execution_count": null,
   "id": "a5ade9d6",
   "metadata": {},
   "outputs": [
    {
     "ename": "",
     "evalue": "",
     "output_type": "error",
     "traceback": [
      "\u001b[1;31mRunning cells with 'Python 3.9.7 ('base': conda)' requires ipykernel package.\n",
      "\u001b[1;31mRun the following command to install 'ipykernel' into the Python environment. \n",
      "\u001b[1;31mCommand: 'conda install -n base ipykernel --update-deps --force-reinstall'"
     ]
    }
   ],
   "source": [
    "import numpy as np\n",
    "import pandas as pd\n",
    "import seaborn as sns\n",
    "import matplotlib.pyplot as plt"
   ]
  },
  {
   "cell_type": "code",
   "execution_count": 4,
   "id": "a2b1e626",
   "metadata": {
    "scrolled": true
   },
   "outputs": [],
   "source": [
    "import nltk\n",
    "# nltk.download()"
   ]
  },
  {
   "cell_type": "markdown",
   "id": "26ee32ce",
   "metadata": {},
   "source": [
    "**Reading and Cleaning the Data**"
   ]
  },
  {
   "cell_type": "code",
   "execution_count": 5,
   "id": "8e1ecb08",
   "metadata": {},
   "outputs": [],
   "source": [
    "# read the file\n",
    "data = pd.read_json('Sarcasm_Headlines_Dataset_v2.json', lines=True)"
   ]
  },
  {
   "cell_type": "code",
   "execution_count": 6,
   "id": "3058af67",
   "metadata": {},
   "outputs": [
    {
     "data": {
      "text/html": [
       "<div>\n",
       "<style scoped>\n",
       "    .dataframe tbody tr th:only-of-type {\n",
       "        vertical-align: middle;\n",
       "    }\n",
       "\n",
       "    .dataframe tbody tr th {\n",
       "        vertical-align: top;\n",
       "    }\n",
       "\n",
       "    .dataframe thead th {\n",
       "        text-align: right;\n",
       "    }\n",
       "</style>\n",
       "<table border=\"1\" class=\"dataframe\">\n",
       "  <thead>\n",
       "    <tr style=\"text-align: right;\">\n",
       "      <th></th>\n",
       "      <th>is_sarcastic</th>\n",
       "      <th>headline</th>\n",
       "      <th>article_link</th>\n",
       "    </tr>\n",
       "  </thead>\n",
       "  <tbody>\n",
       "    <tr>\n",
       "      <th>0</th>\n",
       "      <td>1</td>\n",
       "      <td>thirtysomething scientists unveil doomsday clo...</td>\n",
       "      <td>https://www.theonion.com/thirtysomething-scien...</td>\n",
       "    </tr>\n",
       "    <tr>\n",
       "      <th>1</th>\n",
       "      <td>0</td>\n",
       "      <td>dem rep. totally nails why congress is falling...</td>\n",
       "      <td>https://www.huffingtonpost.com/entry/donna-edw...</td>\n",
       "    </tr>\n",
       "    <tr>\n",
       "      <th>2</th>\n",
       "      <td>0</td>\n",
       "      <td>eat your veggies: 9 deliciously different recipes</td>\n",
       "      <td>https://www.huffingtonpost.com/entry/eat-your-...</td>\n",
       "    </tr>\n",
       "    <tr>\n",
       "      <th>3</th>\n",
       "      <td>1</td>\n",
       "      <td>inclement weather prevents liar from getting t...</td>\n",
       "      <td>https://local.theonion.com/inclement-weather-p...</td>\n",
       "    </tr>\n",
       "    <tr>\n",
       "      <th>4</th>\n",
       "      <td>1</td>\n",
       "      <td>mother comes pretty close to using word 'strea...</td>\n",
       "      <td>https://www.theonion.com/mother-comes-pretty-c...</td>\n",
       "    </tr>\n",
       "    <tr>\n",
       "      <th>...</th>\n",
       "      <td>...</td>\n",
       "      <td>...</td>\n",
       "      <td>...</td>\n",
       "    </tr>\n",
       "    <tr>\n",
       "      <th>95</th>\n",
       "      <td>0</td>\n",
       "      <td>number of homeless students in america is risi...</td>\n",
       "      <td>https://www.huffingtonpost.com/entry/homeless-...</td>\n",
       "    </tr>\n",
       "    <tr>\n",
       "      <th>96</th>\n",
       "      <td>1</td>\n",
       "      <td>report: majority of instances of people gettin...</td>\n",
       "      <td>https://www.theonion.com/report-majority-of-in...</td>\n",
       "    </tr>\n",
       "    <tr>\n",
       "      <th>97</th>\n",
       "      <td>1</td>\n",
       "      <td>groundbreaking study finds gratification can b...</td>\n",
       "      <td>https://www.theonion.com/groundbreaking-study-...</td>\n",
       "    </tr>\n",
       "    <tr>\n",
       "      <th>98</th>\n",
       "      <td>0</td>\n",
       "      <td>nick cannon responds to mariah carey's engagem...</td>\n",
       "      <td>https://www.huffingtonpost.com/entry/nick-cann...</td>\n",
       "    </tr>\n",
       "    <tr>\n",
       "      <th>99</th>\n",
       "      <td>0</td>\n",
       "      <td>midlife obesity may speed up alzheimer's</td>\n",
       "      <td>https://www.huffingtonpost.com/entry/midlife-o...</td>\n",
       "    </tr>\n",
       "  </tbody>\n",
       "</table>\n",
       "<p>100 rows × 3 columns</p>\n",
       "</div>"
      ],
      "text/plain": [
       "    is_sarcastic                                           headline  \\\n",
       "0              1  thirtysomething scientists unveil doomsday clo...   \n",
       "1              0  dem rep. totally nails why congress is falling...   \n",
       "2              0  eat your veggies: 9 deliciously different recipes   \n",
       "3              1  inclement weather prevents liar from getting t...   \n",
       "4              1  mother comes pretty close to using word 'strea...   \n",
       "..           ...                                                ...   \n",
       "95             0  number of homeless students in america is risi...   \n",
       "96             1  report: majority of instances of people gettin...   \n",
       "97             1  groundbreaking study finds gratification can b...   \n",
       "98             0  nick cannon responds to mariah carey's engagem...   \n",
       "99             0           midlife obesity may speed up alzheimer's   \n",
       "\n",
       "                                         article_link  \n",
       "0   https://www.theonion.com/thirtysomething-scien...  \n",
       "1   https://www.huffingtonpost.com/entry/donna-edw...  \n",
       "2   https://www.huffingtonpost.com/entry/eat-your-...  \n",
       "3   https://local.theonion.com/inclement-weather-p...  \n",
       "4   https://www.theonion.com/mother-comes-pretty-c...  \n",
       "..                                                ...  \n",
       "95  https://www.huffingtonpost.com/entry/homeless-...  \n",
       "96  https://www.theonion.com/report-majority-of-in...  \n",
       "97  https://www.theonion.com/groundbreaking-study-...  \n",
       "98  https://www.huffingtonpost.com/entry/nick-cann...  \n",
       "99  https://www.huffingtonpost.com/entry/midlife-o...  \n",
       "\n",
       "[100 rows x 3 columns]"
      ]
     },
     "execution_count": 6,
     "metadata": {},
     "output_type": "execute_result"
    }
   ],
   "source": [
    "# view the data\n",
    "data.head(100)"
   ]
  },
  {
   "cell_type": "code",
   "execution_count": 7,
   "id": "79baedf1",
   "metadata": {},
   "outputs": [
    {
     "data": {
      "text/plain": [
       "(28619, 3)"
      ]
     },
     "execution_count": 7,
     "metadata": {},
     "output_type": "execute_result"
    }
   ],
   "source": [
    "# shape of the data\n",
    "data.shape"
   ]
  },
  {
   "cell_type": "code",
   "execution_count": 8,
   "id": "3314243c",
   "metadata": {},
   "outputs": [
    {
     "name": "stdout",
     "output_type": "stream",
     "text": [
      "We have 287674 words in the headline\n"
     ]
    }
   ],
   "source": [
    "data_len = data['headline'].apply(lambda x: len(x.split(' '))).sum()\n",
    "print(f'We have {data_len} words in the headline')"
   ]
  },
  {
   "cell_type": "code",
   "execution_count": 9,
   "id": "faa7d48d",
   "metadata": {},
   "outputs": [
    {
     "data": {
      "text/plain": [
       "Index(['is_sarcastic', 'headline', 'article_link'], dtype='object')"
      ]
     },
     "execution_count": 9,
     "metadata": {},
     "output_type": "execute_result"
    }
   ],
   "source": [
    "# check the columns names\n",
    "data.columns"
   ]
  },
  {
   "cell_type": "code",
   "execution_count": 10,
   "id": "825c65a1",
   "metadata": {},
   "outputs": [
    {
     "data": {
      "text/plain": [
       "is_sarcastic     int64\n",
       "headline        object\n",
       "article_link    object\n",
       "dtype: object"
      ]
     },
     "execution_count": 10,
     "metadata": {},
     "output_type": "execute_result"
    }
   ],
   "source": [
    "# check the data types in the columns\n",
    "data.dtypes"
   ]
  },
  {
   "cell_type": "code",
   "execution_count": 11,
   "id": "e8995586",
   "metadata": {},
   "outputs": [
    {
     "data": {
      "text/plain": [
       "array([1, 0], dtype=int64)"
      ]
     },
     "execution_count": 11,
     "metadata": {},
     "output_type": "execute_result"
    }
   ],
   "source": [
    "#checking the unique values in 'is_sarcastic' column\n",
    "data.is_sarcastic.unique()"
   ]
  },
  {
   "cell_type": "code",
   "execution_count": 12,
   "id": "8e50f710",
   "metadata": {},
   "outputs": [],
   "source": [
    "import warnings \n",
    "warnings.simplefilter(action=\"ignore\", category=FutureWarning)"
   ]
  },
  {
   "cell_type": "code",
   "execution_count": 13,
   "id": "ba5b8be1",
   "metadata": {},
   "outputs": [
    {
     "data": {
      "image/png": "[encoded data removed]",
      "text/plain": [
       "<Figure size 432x288 with 1 Axes>"
      ]
     },
     "metadata": {
      "needs_background": "light"
     },
     "output_type": "display_data"
    }
   ],
   "source": [
    "#checking the value counts in 'is_sarcastic' column\n",
    "data.is_sarcastic.value_counts()\n",
    "sns.countplot(data['is_sarcastic'].value_counts())\n",
    "plt.show()"
   ]
  },
  {
   "cell_type": "code",
   "execution_count": 14,
   "id": "151f5f65",
   "metadata": {},
   "outputs": [
    {
     "data": {
      "text/plain": [
       "is_sarcastic    0\n",
       "headline        0\n",
       "article_link    0\n",
       "dtype: int64"
      ]
     },
     "execution_count": 14,
     "metadata": {},
     "output_type": "execute_result"
    }
   ],
   "source": [
    "# check the null values in data\n",
    "data.isna().sum() "
   ]
  },
  {
   "cell_type": "code",
   "execution_count": 15,
   "id": "9d149e1b",
   "metadata": {},
   "outputs": [],
   "source": [
    "#drop 'article_link' column\n",
    "data = data.drop('article_link', axis=1)"
   ]
  },
  {
   "cell_type": "code",
   "execution_count": 16,
   "id": "11bfc984",
   "metadata": {},
   "outputs": [
    {
     "data": {
      "text/html": [
       "<div>\n",
       "<style scoped>\n",
       "    .dataframe tbody tr th:only-of-type {\n",
       "        vertical-align: middle;\n",
       "    }\n",
       "\n",
       "    .dataframe tbody tr th {\n",
       "        vertical-align: top;\n",
       "    }\n",
       "\n",
       "    .dataframe thead th {\n",
       "        text-align: right;\n",
       "    }\n",
       "</style>\n",
       "<table border=\"1\" class=\"dataframe\">\n",
       "  <thead>\n",
       "    <tr style=\"text-align: right;\">\n",
       "      <th></th>\n",
       "      <th>is_sarcastic</th>\n",
       "      <th>headline</th>\n",
       "    </tr>\n",
       "  </thead>\n",
       "  <tbody>\n",
       "    <tr>\n",
       "      <th>0</th>\n",
       "      <td>1</td>\n",
       "      <td>thirtysomething scientists unveil doomsday clo...</td>\n",
       "    </tr>\n",
       "    <tr>\n",
       "      <th>1</th>\n",
       "      <td>0</td>\n",
       "      <td>dem rep. totally nails why congress is falling...</td>\n",
       "    </tr>\n",
       "    <tr>\n",
       "      <th>2</th>\n",
       "      <td>0</td>\n",
       "      <td>eat your veggies: 9 deliciously different recipes</td>\n",
       "    </tr>\n",
       "    <tr>\n",
       "      <th>3</th>\n",
       "      <td>1</td>\n",
       "      <td>inclement weather prevents liar from getting t...</td>\n",
       "    </tr>\n",
       "    <tr>\n",
       "      <th>4</th>\n",
       "      <td>1</td>\n",
       "      <td>mother comes pretty close to using word 'strea...</td>\n",
       "    </tr>\n",
       "    <tr>\n",
       "      <th>5</th>\n",
       "      <td>0</td>\n",
       "      <td>my white inheritance</td>\n",
       "    </tr>\n",
       "    <tr>\n",
       "      <th>6</th>\n",
       "      <td>0</td>\n",
       "      <td>5 ways to file your taxes with less stress</td>\n",
       "    </tr>\n",
       "    <tr>\n",
       "      <th>7</th>\n",
       "      <td>1</td>\n",
       "      <td>richard branson's global-warming donation near...</td>\n",
       "    </tr>\n",
       "    <tr>\n",
       "      <th>8</th>\n",
       "      <td>1</td>\n",
       "      <td>shadow government getting too large to meet in...</td>\n",
       "    </tr>\n",
       "    <tr>\n",
       "      <th>9</th>\n",
       "      <td>0</td>\n",
       "      <td>lots of parents know this scenario</td>\n",
       "    </tr>\n",
       "  </tbody>\n",
       "</table>\n",
       "</div>"
      ],
      "text/plain": [
       "   is_sarcastic                                           headline\n",
       "0             1  thirtysomething scientists unveil doomsday clo...\n",
       "1             0  dem rep. totally nails why congress is falling...\n",
       "2             0  eat your veggies: 9 deliciously different recipes\n",
       "3             1  inclement weather prevents liar from getting t...\n",
       "4             1  mother comes pretty close to using word 'strea...\n",
       "5             0                               my white inheritance\n",
       "6             0         5 ways to file your taxes with less stress\n",
       "7             1  richard branson's global-warming donation near...\n",
       "8             1  shadow government getting too large to meet in...\n",
       "9             0                 lots of parents know this scenario"
      ]
     },
     "execution_count": 16,
     "metadata": {},
     "output_type": "execute_result"
    }
   ],
   "source": [
    "#ckeck the data\n",
    "data.head(10)"
   ]
  },
  {
   "cell_type": "markdown",
   "id": "a69a6854",
   "metadata": {},
   "source": [
    "# Preprocessing"
   ]
  },
  {
   "cell_type": "code",
   "execution_count": 17,
   "id": "471a0bfe",
   "metadata": {
    "scrolled": true
   },
   "outputs": [],
   "source": [
    "#import necessary library\n",
    "import re\n",
    "from nltk.corpus import stopwords\n",
    "\n",
    "set_stopwords = set(stopwords.words(\"english\"))\n",
    "\n",
    "\n",
    "def clean_txt(text): # define the fuction with tokenization/string cleaning for all datasets \n",
    "                        \n",
    "    text = re.sub(r\"[^A-Za-z,!?]\", \" \", text)     \n",
    "    text = re.sub(r'\\[[^]]*\\]',\" \", text) \n",
    "    text = re.sub(r\"\\'s\", \"\", text) \n",
    "    text = re.sub(r\"\\'t\", \"\", text ) \n",
    "    text = re.sub(r\"\\'re\", \"\",text) \n",
    "    text = re.sub(r\"\\'d\", \"\", text) \n",
    "    text = re.sub(r\"\\'ll\", \" \",text) \n",
    "    text = re.sub(r\",\", \" \", text) \n",
    "    text = re.sub(r\"\\(\", \" \", text) \n",
    "    text = re.sub(r\"\\)\", \" \", text) \n",
    "    text = re.sub(r\"\\'\", \" \", text)\n",
    "    text = re.sub(r\"aa\", \"\", text)\n",
    "    text = re.sub(r\"zz\", \"\", text)\n",
    "    text = re.sub(r\"[0-9]\", ' ', text)\n",
    "    text = text.lower()\n",
    "    text = ' '.join(word for word in text.split() if word not in set_stopwords)\n",
    "    return text\n",
    "\n",
    "data['headline'] = data['headline'].apply(clean_txt)"
   ]
  },
  {
   "cell_type": "code",
   "execution_count": 18,
   "id": "73d149ab",
   "metadata": {},
   "outputs": [
    {
     "name": "stdout",
     "output_type": "stream",
     "text": [
      "After text cleaning we have only 205988 words to work with\n"
     ]
    }
   ],
   "source": [
    "data_clean_len = data['headline'].apply(lambda x: len(x.split(' '))).sum() \n",
    "print(f'After text cleaning we have only {data_clean_len} words to work with')"
   ]
  },
  {
   "cell_type": "markdown",
   "id": "9d32c81e",
   "metadata": {},
   "source": [
    "*Most common words*"
   ]
  },
  {
   "cell_type": "markdown",
   "id": "469f2a35",
   "metadata": {},
   "source": [
    "## Visualization"
   ]
  },
  {
   "cell_type": "code",
   "execution_count": 19,
   "id": "e3fec44f",
   "metadata": {},
   "outputs": [
    {
     "data": {
      "image/png": "[encoded data removed]",
      "text/plain": [
       "<Figure size 1080x1080 with 1 Axes>"
      ]
     },
     "metadata": {},
     "output_type": "display_data"
    }
   ],
   "source": [
    "from collections import Counter #import Counter for finding most common words\n",
    "import seaborn as sns #import searbon for vizualization result\n",
    "\n",
    "text = data['headline']\n",
    "words = text.str.split(expand=True).unstack()\n",
    "result_count = Counter(words).most_common()\n",
    "result_df = pd.DataFrame(result_count).reset_index().drop(0) #converting to Dataframe and drop the Nones values\n",
    "#result_df\n",
    "#vizualize result\n",
    "sns.set_theme(style=\"whitegrid\") \n",
    "f, ax = plt.subplots(figsize=(15, 15)) \n",
    "sns.barplot(y=result_df[0][0:30], x=result_df[1][0:30], data=result_df, palette=None)\n",
    "plt.ylabel('Words', color=\"blue\")  # Add an x-label to the axes.\n",
    "plt.xlabel('Count', color=\"blue\")  # Add a y-label to the axes.\n",
    "plt.title(\"Frequent Occuring words in Headlines\", color=\"blue\") \n",
    "plt.xticks(rotation=50);\n",
    "ax.tick_params(axis='x', colors='black')\n",
    "plt.show()"
   ]
  },
  {
   "cell_type": "markdown",
   "id": "147ecf21",
   "metadata": {},
   "source": [
    "**Finding most common words in 'is_sarcastic' column**"
   ]
  },
  {
   "cell_type": "code",
   "execution_count": 20,
   "id": "558202fb",
   "metadata": {},
   "outputs": [],
   "source": [
    "#create DataFrame for sarcastic words \n",
    "sarcastic = pd.DataFrame(data[data['is_sarcastic']==1]['headline'].str.split(expand=True).unstack().value_counts()).reset_index()"
   ]
  },
  {
   "cell_type": "code",
   "execution_count": 21,
   "id": "b4b77701",
   "metadata": {},
   "outputs": [],
   "source": [
    "#create DataFrame for non_sarcastic words \n",
    "non_sarcastic = pd.DataFrame(data[data['is_sarcastic']==0]['headline'].str.split(expand=True).unstack().value_counts()).reset_index()"
   ]
  },
  {
   "cell_type": "code",
   "execution_count": 22,
   "id": "56d729ad",
   "metadata": {},
   "outputs": [
    {
     "data": {
      "image/png": "[encoded data removed]",
      "text/plain": [
       "<Figure size 1080x720 with 1 Axes>"
      ]
     },
     "metadata": {},
     "output_type": "display_data"
    }
   ],
   "source": [
    "#vizualize result\n",
    "sns.set_theme(style=\"whitegrid\") \n",
    "f, ax = plt.subplots(figsize=(15, 10)) \n",
    "sns.barplot(y=sarcastic['index'][0:30], x=sarcastic[0][0:30], data=result_df, palette=None)\n",
    "plt.ylabel('Words', color=\"blue\")  # Add an x-label to the axes.\n",
    "plt.xlabel('Count', color=\"blue\")  # Add a y-label to the axes.\n",
    "plt.title(\"Frequent Occuring Sarcastic Words in Headlines\", color=\"blue\") \n",
    "plt.xticks(rotation=70);\n",
    "plt.show()"
   ]
  },
  {
   "cell_type": "code",
   "execution_count": 23,
   "id": "44935e5d",
   "metadata": {},
   "outputs": [
    {
     "data": {
      "image/png": "[encoded data removed]",
      "text/plain": [
       "<Figure size 1080x720 with 1 Axes>"
      ]
     },
     "metadata": {},
     "output_type": "display_data"
    }
   ],
   "source": [
    "#vizualize result\n",
    "sns.set_theme(style=\"whitegrid\") \n",
    "f, ax = plt.subplots(figsize=(15, 10)) \n",
    "sns.barplot(y=non_sarcastic['index'][0:30], x=non_sarcastic[0][0:30], data=result_df, palette=None)\n",
    "plt.ylabel('Words', color=\"blue\")  # Add an x-label to the axes.\n",
    "plt.xlabel('Count', color=\"blue\")  # Add a y-label to the axes.\n",
    "plt.title(\"Frequent Occuring Non_Sarcastic Words in Headlines\", color=\"blue\") \n",
    "plt.xticks(rotation=70);\n",
    "plt.show()"
   ]
  },
  {
   "cell_type": "markdown",
   "id": "5b21e3f2",
   "metadata": {},
   "source": [
    "**WordCloud Vizualization with StopWords**"
   ]
  },
  {
   "cell_type": "code",
   "execution_count": 24,
   "id": "1f9fb4f4",
   "metadata": {},
   "outputs": [],
   "source": [
    "from nltk.corpus import stopwords\n",
    "stopwords = stopwords.words('english')\n",
    "\n",
    "sarcasctic_2 = [every_word.lower() for every_word in sarcastic['index']]\n",
    "\n",
    "sarc_nonstop = [word for word in sarcasctic_2 if word not in stopwords]\n",
    "\n",
    "non_sarcasctic_2 = [every_word.lower() for every_word in non_sarcastic['index']]\n",
    "\n",
    "non_sarc_nonstop = [word for word in non_sarcasctic_2 if word not in stopwords]\n"
   ]
  },
  {
   "cell_type": "markdown",
   "id": "0e991f06",
   "metadata": {},
   "source": [
    "# Text pre-processing***"
   ]
  },
  {
   "cell_type": "code",
   "execution_count": 31,
   "id": "e079c5eb",
   "metadata": {},
   "outputs": [
    {
     "data": {
      "text/html": [
       "<div>\n",
       "<style scoped>\n",
       "    .dataframe tbody tr th:only-of-type {\n",
       "        vertical-align: middle;\n",
       "    }\n",
       "\n",
       "    .dataframe tbody tr th {\n",
       "        vertical-align: top;\n",
       "    }\n",
       "\n",
       "    .dataframe thead th {\n",
       "        text-align: right;\n",
       "    }\n",
       "</style>\n",
       "<table border=\"1\" class=\"dataframe\">\n",
       "  <thead>\n",
       "    <tr style=\"text-align: right;\">\n",
       "      <th></th>\n",
       "      <th>ab</th>\n",
       "      <th>abandon</th>\n",
       "      <th>abandoned</th>\n",
       "      <th>abandoning</th>\n",
       "      <th>abandons</th>\n",
       "      <th>abayas</th>\n",
       "      <th>abbas</th>\n",
       "      <th>abbey</th>\n",
       "      <th>abbi</th>\n",
       "      <th>abby</th>\n",
       "      <th>...</th>\n",
       "      <th>zookeeper</th>\n",
       "      <th>zoolander</th>\n",
       "      <th>zoologist</th>\n",
       "      <th>zoologists</th>\n",
       "      <th>zoomed</th>\n",
       "      <th>zoroastrianism</th>\n",
       "      <th>zsa</th>\n",
       "      <th>ztari</th>\n",
       "      <th>zucker</th>\n",
       "      <th>zuckerberg</th>\n",
       "    </tr>\n",
       "  </thead>\n",
       "  <tbody>\n",
       "    <tr>\n",
       "      <th>0</th>\n",
       "      <td>0</td>\n",
       "      <td>0</td>\n",
       "      <td>0</td>\n",
       "      <td>0</td>\n",
       "      <td>0</td>\n",
       "      <td>0</td>\n",
       "      <td>0</td>\n",
       "      <td>0</td>\n",
       "      <td>0</td>\n",
       "      <td>0</td>\n",
       "      <td>...</td>\n",
       "      <td>0</td>\n",
       "      <td>0</td>\n",
       "      <td>0</td>\n",
       "      <td>0</td>\n",
       "      <td>0</td>\n",
       "      <td>0</td>\n",
       "      <td>0</td>\n",
       "      <td>0</td>\n",
       "      <td>0</td>\n",
       "      <td>0</td>\n",
       "    </tr>\n",
       "    <tr>\n",
       "      <th>1</th>\n",
       "      <td>0</td>\n",
       "      <td>0</td>\n",
       "      <td>0</td>\n",
       "      <td>0</td>\n",
       "      <td>0</td>\n",
       "      <td>0</td>\n",
       "      <td>0</td>\n",
       "      <td>0</td>\n",
       "      <td>0</td>\n",
       "      <td>0</td>\n",
       "      <td>...</td>\n",
       "      <td>0</td>\n",
       "      <td>0</td>\n",
       "      <td>0</td>\n",
       "      <td>0</td>\n",
       "      <td>0</td>\n",
       "      <td>0</td>\n",
       "      <td>0</td>\n",
       "      <td>0</td>\n",
       "      <td>0</td>\n",
       "      <td>0</td>\n",
       "    </tr>\n",
       "    <tr>\n",
       "      <th>2</th>\n",
       "      <td>0</td>\n",
       "      <td>0</td>\n",
       "      <td>0</td>\n",
       "      <td>0</td>\n",
       "      <td>0</td>\n",
       "      <td>0</td>\n",
       "      <td>0</td>\n",
       "      <td>0</td>\n",
       "      <td>0</td>\n",
       "      <td>0</td>\n",
       "      <td>...</td>\n",
       "      <td>0</td>\n",
       "      <td>0</td>\n",
       "      <td>0</td>\n",
       "      <td>0</td>\n",
       "      <td>0</td>\n",
       "      <td>0</td>\n",
       "      <td>0</td>\n",
       "      <td>0</td>\n",
       "      <td>0</td>\n",
       "      <td>0</td>\n",
       "    </tr>\n",
       "    <tr>\n",
       "      <th>3</th>\n",
       "      <td>0</td>\n",
       "      <td>0</td>\n",
       "      <td>0</td>\n",
       "      <td>0</td>\n",
       "      <td>0</td>\n",
       "      <td>0</td>\n",
       "      <td>0</td>\n",
       "      <td>0</td>\n",
       "      <td>0</td>\n",
       "      <td>0</td>\n",
       "      <td>...</td>\n",
       "      <td>0</td>\n",
       "      <td>0</td>\n",
       "      <td>0</td>\n",
       "      <td>0</td>\n",
       "      <td>0</td>\n",
       "      <td>0</td>\n",
       "      <td>0</td>\n",
       "      <td>0</td>\n",
       "      <td>0</td>\n",
       "      <td>0</td>\n",
       "    </tr>\n",
       "    <tr>\n",
       "      <th>4</th>\n",
       "      <td>0</td>\n",
       "      <td>0</td>\n",
       "      <td>0</td>\n",
       "      <td>0</td>\n",
       "      <td>0</td>\n",
       "      <td>0</td>\n",
       "      <td>0</td>\n",
       "      <td>0</td>\n",
       "      <td>0</td>\n",
       "      <td>0</td>\n",
       "      <td>...</td>\n",
       "      <td>0</td>\n",
       "      <td>0</td>\n",
       "      <td>0</td>\n",
       "      <td>0</td>\n",
       "      <td>0</td>\n",
       "      <td>0</td>\n",
       "      <td>0</td>\n",
       "      <td>0</td>\n",
       "      <td>0</td>\n",
       "      <td>0</td>\n",
       "    </tr>\n",
       "    <tr>\n",
       "      <th>...</th>\n",
       "      <td>...</td>\n",
       "      <td>...</td>\n",
       "      <td>...</td>\n",
       "      <td>...</td>\n",
       "      <td>...</td>\n",
       "      <td>...</td>\n",
       "      <td>...</td>\n",
       "      <td>...</td>\n",
       "      <td>...</td>\n",
       "      <td>...</td>\n",
       "      <td>...</td>\n",
       "      <td>...</td>\n",
       "      <td>...</td>\n",
       "      <td>...</td>\n",
       "      <td>...</td>\n",
       "      <td>...</td>\n",
       "      <td>...</td>\n",
       "      <td>...</td>\n",
       "      <td>...</td>\n",
       "      <td>...</td>\n",
       "      <td>...</td>\n",
       "    </tr>\n",
       "    <tr>\n",
       "      <th>28614</th>\n",
       "      <td>0</td>\n",
       "      <td>0</td>\n",
       "      <td>0</td>\n",
       "      <td>0</td>\n",
       "      <td>0</td>\n",
       "      <td>0</td>\n",
       "      <td>0</td>\n",
       "      <td>0</td>\n",
       "      <td>0</td>\n",
       "      <td>0</td>\n",
       "      <td>...</td>\n",
       "      <td>0</td>\n",
       "      <td>0</td>\n",
       "      <td>0</td>\n",
       "      <td>0</td>\n",
       "      <td>0</td>\n",
       "      <td>0</td>\n",
       "      <td>0</td>\n",
       "      <td>0</td>\n",
       "      <td>0</td>\n",
       "      <td>0</td>\n",
       "    </tr>\n",
       "    <tr>\n",
       "      <th>28615</th>\n",
       "      <td>0</td>\n",
       "      <td>0</td>\n",
       "      <td>0</td>\n",
       "      <td>0</td>\n",
       "      <td>0</td>\n",
       "      <td>0</td>\n",
       "      <td>0</td>\n",
       "      <td>0</td>\n",
       "      <td>0</td>\n",
       "      <td>0</td>\n",
       "      <td>...</td>\n",
       "      <td>0</td>\n",
       "      <td>0</td>\n",
       "      <td>0</td>\n",
       "      <td>0</td>\n",
       "      <td>0</td>\n",
       "      <td>0</td>\n",
       "      <td>0</td>\n",
       "      <td>0</td>\n",
       "      <td>0</td>\n",
       "      <td>0</td>\n",
       "    </tr>\n",
       "    <tr>\n",
       "      <th>28616</th>\n",
       "      <td>0</td>\n",
       "      <td>0</td>\n",
       "      <td>0</td>\n",
       "      <td>0</td>\n",
       "      <td>0</td>\n",
       "      <td>0</td>\n",
       "      <td>0</td>\n",
       "      <td>0</td>\n",
       "      <td>0</td>\n",
       "      <td>0</td>\n",
       "      <td>...</td>\n",
       "      <td>0</td>\n",
       "      <td>0</td>\n",
       "      <td>0</td>\n",
       "      <td>0</td>\n",
       "      <td>0</td>\n",
       "      <td>0</td>\n",
       "      <td>0</td>\n",
       "      <td>0</td>\n",
       "      <td>0</td>\n",
       "      <td>0</td>\n",
       "    </tr>\n",
       "    <tr>\n",
       "      <th>28617</th>\n",
       "      <td>0</td>\n",
       "      <td>0</td>\n",
       "      <td>0</td>\n",
       "      <td>0</td>\n",
       "      <td>0</td>\n",
       "      <td>0</td>\n",
       "      <td>0</td>\n",
       "      <td>0</td>\n",
       "      <td>0</td>\n",
       "      <td>0</td>\n",
       "      <td>...</td>\n",
       "      <td>0</td>\n",
       "      <td>0</td>\n",
       "      <td>0</td>\n",
       "      <td>0</td>\n",
       "      <td>0</td>\n",
       "      <td>0</td>\n",
       "      <td>0</td>\n",
       "      <td>0</td>\n",
       "      <td>0</td>\n",
       "      <td>0</td>\n",
       "    </tr>\n",
       "    <tr>\n",
       "      <th>28618</th>\n",
       "      <td>0</td>\n",
       "      <td>0</td>\n",
       "      <td>0</td>\n",
       "      <td>0</td>\n",
       "      <td>0</td>\n",
       "      <td>0</td>\n",
       "      <td>0</td>\n",
       "      <td>0</td>\n",
       "      <td>0</td>\n",
       "      <td>0</td>\n",
       "      <td>...</td>\n",
       "      <td>0</td>\n",
       "      <td>0</td>\n",
       "      <td>0</td>\n",
       "      <td>0</td>\n",
       "      <td>0</td>\n",
       "      <td>0</td>\n",
       "      <td>0</td>\n",
       "      <td>0</td>\n",
       "      <td>0</td>\n",
       "      <td>0</td>\n",
       "    </tr>\n",
       "  </tbody>\n",
       "</table>\n",
       "<p>28619 rows × 25779 columns</p>\n",
       "</div>"
      ],
      "text/plain": [
       "       ab  abandon  abandoned  abandoning  abandons  abayas  abbas  abbey  \\\n",
       "0       0        0          0           0         0       0      0      0   \n",
       "1       0        0          0           0         0       0      0      0   \n",
       "2       0        0          0           0         0       0      0      0   \n",
       "3       0        0          0           0         0       0      0      0   \n",
       "4       0        0          0           0         0       0      0      0   \n",
       "...    ..      ...        ...         ...       ...     ...    ...    ...   \n",
       "28614   0        0          0           0         0       0      0      0   \n",
       "28615   0        0          0           0         0       0      0      0   \n",
       "28616   0        0          0           0         0       0      0      0   \n",
       "28617   0        0          0           0         0       0      0      0   \n",
       "28618   0        0          0           0         0       0      0      0   \n",
       "\n",
       "       abbi  abby  ...  zookeeper  zoolander  zoologist  zoologists  zoomed  \\\n",
       "0         0     0  ...          0          0          0           0       0   \n",
       "1         0     0  ...          0          0          0           0       0   \n",
       "2         0     0  ...          0          0          0           0       0   \n",
       "3         0     0  ...          0          0          0           0       0   \n",
       "4         0     0  ...          0          0          0           0       0   \n",
       "...     ...   ...  ...        ...        ...        ...         ...     ...   \n",
       "28614     0     0  ...          0          0          0           0       0   \n",
       "28615     0     0  ...          0          0          0           0       0   \n",
       "28616     0     0  ...          0          0          0           0       0   \n",
       "28617     0     0  ...          0          0          0           0       0   \n",
       "28618     0     0  ...          0          0          0           0       0   \n",
       "\n",
       "       zoroastrianism  zsa  ztari  zucker  zuckerberg  \n",
       "0                   0    0      0       0           0  \n",
       "1                   0    0      0       0           0  \n",
       "2                   0    0      0       0           0  \n",
       "3                   0    0      0       0           0  \n",
       "4                   0    0      0       0           0  \n",
       "...               ...  ...    ...     ...         ...  \n",
       "28614               0    0      0       0           0  \n",
       "28615               0    0      0       0           0  \n",
       "28616               0    0      0       0           0  \n",
       "28617               0    0      0       0           0  \n",
       "28618               0    0      0       0           0  \n",
       "\n",
       "[28619 rows x 25779 columns]"
      ]
     },
     "execution_count": 31,
     "metadata": {},
     "output_type": "execute_result"
    }
   ],
   "source": [
    "from sklearn.feature_extraction.text import CountVectorizer\n",
    "cv = CountVectorizer()\n",
    "X_cv = cv.fit_transform(data['headline']).toarray()\n",
    "y = data.iloc[:, -1].values\n",
    "cv.get_feature_names()\n",
    "df = pd.DataFrame(X_cv, columns=cv.get_feature_names())\n",
    "df"
   ]
  },
  {
   "cell_type": "markdown",
   "id": "32f77a83",
   "metadata": {},
   "source": [
    "**Split text to train and test**"
   ]
  },
  {
   "cell_type": "code",
   "execution_count": 32,
   "id": "1191fe75",
   "metadata": {},
   "outputs": [],
   "source": [
    "from sklearn.model_selection import train_test_split # import library for train_test_split\n",
    "X = text\n",
    "y = data.is_sarcastic\n",
    "X_train, X_test, y_train, y_test = train_test_split(X, y, test_size=0.1, random_state = 0)"
   ]
  },
  {
   "cell_type": "markdown",
   "id": "b99e1b75",
   "metadata": {},
   "source": [
    "**Multinomial Naive Bayes Classifier**"
   ]
  },
  {
   "cell_type": "code",
   "execution_count": 33,
   "id": "5122b98b",
   "metadata": {},
   "outputs": [],
   "source": [
    "from sklearn.naive_bayes import MultinomialNB \n"
   ]
  },
  {
   "cell_type": "code",
   "execution_count": 34,
   "id": "96779679",
   "metadata": {},
   "outputs": [
    {
     "name": "stdout",
     "output_type": "stream",
     "text": [
      "Fitting 7 folds for each of 18 candidates, totalling 126 fits\n",
      "CPU times: total: 109 ms\n",
      "Wall time: 194 ms\n",
      "MNB_Train Accuracy : 0.990\n",
      "MNB_Test Accuracy : 0.815\n",
      "MNB_Best Accuracy Through Grid Search : 0.809\n",
      "MNB_Best Parameters :  {'MNB__alpha': 1.0, 'MNB__fit_prior': True, 'vectr__ngram_range': (1, 2)}\n",
      "--->--->--->--->--->--->--->--->--->--->--->--->--->--->--->--->--->--->--->--->--->--->--->--->--->--->--->--->--->--->\n",
      "classification_report: \n",
      "               precision    recall  f1-score   support\n",
      "\n",
      "           0       0.83      0.81      0.82      1493\n",
      "           1       0.80      0.82      0.81      1369\n",
      "\n",
      "    accuracy                           0.82      2862\n",
      "   macro avg       0.81      0.82      0.82      2862\n",
      "weighted avg       0.82      0.82      0.82      2862\n",
      "\n"
     ]
    }
   ],
   "source": [
    "from sklearn.naive_bayes import MultinomialNB \n",
    "from sklearn.pipeline import Pipeline\n",
    "from sklearn.model_selection import GridSearchCV\n",
    "from sklearn.feature_extraction.text import CountVectorizer\n",
    "from sklearn.feature_extraction.text import TfidfTransformer\n",
    "from sklearn.metrics import f1_score, accuracy_score, classification_report\n",
    "\n",
    "\n",
    "pipe1 = Pipeline([('vectr', CountVectorizer(analyzer='word', preprocessor=None, min_df=1,)), \n",
    "                   ('MNB', MultinomialNB()),])\n",
    "\n",
    "parameters1 = {'vectr__ngram_range': [(1,1),(1,2),(1,3)],\n",
    "                    'MNB__alpha': [0.05,0.1,0.5,1.0,2.0,4.0],\n",
    "                'MNB__fit_prior': [True]}\n",
    "gridMNB = GridSearchCV(pipe1, parameters1 ,cv=7,n_jobs=-1, verbose=3)\n",
    "gridMNB.fit(X_train, y_train)\n",
    "\n",
    "%time y_pred1 = gridMNB.predict(X_test)\n",
    "\n",
    "#getting the best accuracy and parameters\n",
    "print('MNB_Train Accuracy : %.3f'%gridMNB.best_estimator_.score(X_train, y_train))\n",
    "print('MNB_Test Accuracy : %.3f'%gridMNB.best_estimator_.score(X_test, y_test))\n",
    "print('MNB_Best Accuracy Through Grid Search : %.3f'%gridMNB.best_score_)\n",
    "print('MNB_Best Parameters : ',gridMNB.best_params_)\n",
    "print(15*'--->--->')\n",
    "print('classification_report: \\n', classification_report(y_test, y_pred1))"
   ]
  },
  {
   "cell_type": "markdown",
   "id": "5033b77b",
   "metadata": {},
   "source": [
    "**Stochastic Gradient Descent Classifier**"
   ]
  },
  {
   "cell_type": "code",
   "execution_count": 35,
   "id": "25d6781b",
   "metadata": {},
   "outputs": [
    {
     "name": "stdout",
     "output_type": "stream",
     "text": [
      "Fitting 8 folds for each of 32 candidates, totalling 256 fits\n"
     ]
    },
    {
     "name": "stderr",
     "output_type": "stream",
     "text": [
      "c:\\Users\\Admin\\anaconda3\\lib\\site-packages\\sklearn\\linear_model\\_stochastic_gradient.py:696: ConvergenceWarning: Maximum number of iteration reached before convergence. Consider increasing max_iter to improve the fit.\n",
      "  warnings.warn(\n"
     ]
    },
    {
     "name": "stdout",
     "output_type": "stream",
     "text": [
      "CPU times: total: 188 ms\n",
      "Wall time: 205 ms\n",
      "SGD_Train Accuracy : 0.995\n",
      "SGD_Test Accuracy : 0.810\n",
      "SGD_Best Accuracy Through Grid Search : 0.809\n",
      "SGD_Best Parameters :  {'SGD__alpha': 0.0001, 'SGD__loss': 'modified_huber', 'SGD__max_iter': 10, 'SGD__penalty': 'l2', 'vectr__ngram_range': (1, 2)}\n",
      "--->--->--->--->--->--->--->--->--->--->--->--->--->--->--->--->--->--->--->--->--->--->--->--->--->--->--->--->--->--->\n",
      "classification_report: \n",
      "               precision    recall  f1-score   support\n",
      "\n",
      "           0       0.82      0.81      0.82      1493\n",
      "           1       0.79      0.81      0.80      1369\n",
      "\n",
      "    accuracy                           0.81      2862\n",
      "   macro avg       0.81      0.81      0.81      2862\n",
      "weighted avg       0.81      0.81      0.81      2862\n",
      "\n"
     ]
    }
   ],
   "source": [
    "from sklearn.linear_model import SGDClassifier\n",
    "\n",
    "pipe2 = Pipeline([('vectr', CountVectorizer(analyzer='word', preprocessor=None, min_df=1)),\n",
    "                  ('tfidf', TfidfTransformer()),\n",
    "                  ('SGD', SGDClassifier(loss='modified_huber', penalty='l2',alpha=0.0001,shuffle=True,\n",
    "                                      learning_rate='optimal',random_state=None, max_iter=100,)),\n",
    "                   ])\n",
    "parameters2 = {'vectr__ngram_range': [(1,1),(1,2)],\n",
    "                    'SGD__alpha': [0.0001,0.01,1,10],\n",
    "                'SGD__max_iter': [1,10,100,1000],\n",
    "                  'SGD__loss': ['modified_huber'],\n",
    "                  'SGD__penalty': ['l2']}\n",
    "\n",
    "              \n",
    "gridSGD = GridSearchCV(pipe2, parameters2 ,cv=8, n_jobs=-1, verbose=3)\n",
    "gridSGD.fit(X_train, y_train)\n",
    "\n",
    "%time y_pred2 = gridSGD.predict(X_test)\n",
    "\n",
    "print('SGD_Train Accuracy : %.3f'%gridSGD.best_estimator_.score(X_train, y_train))\n",
    "print('SGD_Test Accuracy : %.3f'%gridSGD.best_estimator_.score(X_test, y_test))\n",
    "print('SGD_Best Accuracy Through Grid Search : %.3f'%gridSGD.best_score_)\n",
    "print('SGD_Best Parameters : ',gridSGD.best_params_)\n",
    "print(15*'--->--->')\n",
    "print('classification_report: \\n',  classification_report(y_test, y_pred2))                                     "
   ]
  },
  {
   "cell_type": "markdown",
   "id": "e26ad387",
   "metadata": {},
   "source": [
    "**KNeighbors Classifier**"
   ]
  },
  {
   "cell_type": "code",
   "execution_count": 36,
   "id": "e37048d1",
   "metadata": {
    "scrolled": true
   },
   "outputs": [
    {
     "name": "stdout",
     "output_type": "stream",
     "text": [
      "Fitting 6 folds for each of 24 candidates, totalling 144 fits\n",
      "CPU times: total: 2.8 s\n",
      "Wall time: 3.74 s\n",
      "KN_Train Accuracy : 0.744\n",
      "KN_Test Accuracy : 0.739\n",
      "KN_Best Accuracy Through Grid Search : 0.729\n",
      "KN_Best Parameters :  {'KN__leaf_size': 10, 'KN__n_neighbors': 75, 'KN__p': 2, 'vectr__ngram_range': (1, 1)}\n",
      "--->--->--->--->--->--->--->--->--->--->--->--->--->--->--->--->--->--->--->--->--->--->--->--->--->--->--->--->--->--->\n",
      "classification_report: \n",
      "               precision    recall  f1-score   support\n",
      "\n",
      "           0       0.69      0.90      0.78      1493\n",
      "           1       0.84      0.56      0.67      1369\n",
      "\n",
      "    accuracy                           0.74      2862\n",
      "   macro avg       0.76      0.73      0.73      2862\n",
      "weighted avg       0.76      0.74      0.73      2862\n",
      "\n"
     ]
    }
   ],
   "source": [
    "from sklearn.neighbors import KNeighborsClassifier\n",
    "\n",
    "pipe3 = Pipeline([('vectr', CountVectorizer(analyzer='word', preprocessor=None, min_df=1)),\n",
    "                  ('tfidf', TfidfTransformer()),\n",
    "                  ('KN', KNeighborsClassifier(n_neighbors=5, algorithm='brute', weights='uniform', metric='minkowski')),\n",
    "                   ])\n",
    "\n",
    "                \n",
    "parameters3 = {'vectr__ngram_range': [(1,1),(1,2)],\n",
    "                    'KN__n_neighbors': [15,30,45,60,75,90],\n",
    "                    'KN__p': [2],\n",
    "                    'KN__leaf_size': [10,20]\n",
    "              }\n",
    "\n",
    "\n",
    "gridKN = GridSearchCV(pipe3, parameters3, scoring='accuracy',cv=6, n_jobs=-1, verbose=3)\n",
    "gridKN.fit(X_train, y_train)\n",
    "\n",
    "%time y_pred3 = gridKN.predict(X_test)\n",
    "print('KN_Train Accuracy : %.3f'%gridKN.best_estimator_.score(X_train, y_train))\n",
    "print('KN_Test Accuracy : %.3f'%gridKN.best_estimator_.score(X_test, y_test))\n",
    "print('KN_Best Accuracy Through Grid Search : %.3f'%gridKN.best_score_)\n",
    "print('KN_Best Parameters : ',gridKN.best_params_)\n",
    "print(15*'--->--->')\n",
    "print('classification_report: \\n',  classification_report(y_test, y_pred3))  \n"
   ]
  },
  {
   "cell_type": "markdown",
   "id": "a8d35dd8",
   "metadata": {},
   "source": [
    "**Logistic Regression Classifier**"
   ]
  },
  {
   "cell_type": "code",
   "execution_count": 37,
   "id": "c3b524a8",
   "metadata": {},
   "outputs": [
    {
     "name": "stdout",
     "output_type": "stream",
     "text": [
      "Fitting 4 folds for each of 90 candidates, totalling 360 fits\n",
      "CPU times: total: 219 ms\n",
      "Wall time: 134 ms\n",
      "LR_Train Accuracy : 0.998\n",
      "LR_Test Accuracy : 0.807\n",
      "LR_Best Accuracy Through Grid Search : 0.804\n",
      "LR_Best Parameters :  {'LR__C': 7, 'LR__max_iter': 50, 'LR__tol': 0.1, 'vectr__ngram_range': (1, 2)}\n",
      "--->--->--->--->--->--->--->--->--->--->--->--->--->--->--->--->--->--->--->--->--->--->--->--->--->--->--->--->--->--->\n",
      "classification_report: \n",
      "               precision    recall  f1-score   support\n",
      "\n",
      "           0       0.82      0.80      0.81      1493\n",
      "           1       0.79      0.81      0.80      1369\n",
      "\n",
      "    accuracy                           0.81      2862\n",
      "   macro avg       0.81      0.81      0.81      2862\n",
      "weighted avg       0.81      0.81      0.81      2862\n",
      "\n"
     ]
    }
   ],
   "source": [
    "from sklearn.linear_model import LogisticRegression\n",
    "\n",
    "pipe4 = Pipeline([('vectr', CountVectorizer(analyzer='word', preprocessor=None, min_df=1)),\n",
    "                ('tfidf', TfidfTransformer()),\n",
    "                ('LR', LogisticRegression(penalty='l2',C=1.0,random_state=None,\n",
    "                                          solver='liblinear',intercept_scaling=1, max_iter=100,)),\n",
    "               ])\n",
    "\n",
    "parameters4 = {'vectr__ngram_range': [(1,1),(1,2)],\n",
    "                    'LR__C': [3,4,5,6,7],\n",
    "                    'LR__tol': [0.0001,0.01,0.1],\n",
    "                  'LR__max_iter': [50,75,100]\n",
    "              }\n",
    "\n",
    "gridLR = GridSearchCV(pipe4, parameters4 ,cv=4, verbose=1, n_jobs=-1)\n",
    "gridLR.fit(X_train, y_train)\n",
    "\n",
    "%time y_pred4 = gridLR.predict(X_test)\n",
    "print('LR_Train Accuracy : %.3f'%gridLR.best_estimator_.score(X_train, y_train))\n",
    "print('LR_Test Accuracy : %.3f'%gridLR.best_estimator_.score(X_test, y_test))\n",
    "print('LR_Best Accuracy Through Grid Search : %.3f'%gridLR.best_score_)\n",
    "print('LR_Best Parameters : ',gridLR.best_params_)\n",
    "print(15*'--->--->')\n",
    "print('classification_report: \\n',  classification_report(y_test, y_pred4)) "
   ]
  },
  {
   "cell_type": "markdown",
   "id": "fcad1cdd",
   "metadata": {},
   "source": [
    "**Decision Tree Classifier**"
   ]
  },
  {
   "cell_type": "code",
   "execution_count": 39,
   "id": "9c3f4bbb",
   "metadata": {},
   "outputs": [
    {
     "name": "stdout",
     "output_type": "stream",
     "text": [
      "CPU times: total: 141 ms\n",
      "Wall time: 160 ms\n",
      "Dtree_Train Accuracy : 0.533\n",
      "Dtree_Test Accuracy : 0.524\n",
      "Dtree_Best Accuracy Through Grid Search : 0.541\n",
      "Dtree_Best Parameters :  {'DTree__criterion': 'gini', 'DTree__max_depth': 15, 'DTree__max_features': 'auto', 'DTree__min_samples_leaf': 5, 'DTree__min_samples_split': 2, 'vectr__ngram_range': (1, 2)}\n",
      "--->--->--->--->--->--->--->--->--->--->--->--->--->--->--->--->--->--->--->--->--->--->--->--->--->--->--->--->--->--->\n",
      "classification_report: \n",
      "               precision    recall  f1-score   support\n",
      "\n",
      "           0       0.52      0.99      0.68      1493\n",
      "           1       0.57      0.02      0.04      1369\n",
      "\n",
      "    accuracy                           0.52      2862\n",
      "   macro avg       0.55      0.50      0.36      2862\n",
      "weighted avg       0.55      0.52      0.38      2862\n",
      "\n"
     ]
    }
   ],
   "source": [
    "from sklearn.tree import DecisionTreeClassifier\n",
    "\n",
    "pipe5 = Pipeline([('vectr', CountVectorizer()),\n",
    "                ('tfidf', TfidfTransformer()),\n",
    "                ('DTree', DecisionTreeClassifier(criterion='gini', splitter='best',random_state=0 ,min_samples_leaf=1)),\n",
    "               ])\n",
    "\n",
    "parameters5 = {'vectr__ngram_range': [(1,1),(1,2)],\n",
    "               'DTree__criterion' : ['gini'],\n",
    "               'DTree__max_features': ['auto'],\n",
    "               'DTree__max_depth': [2, 3, 5, 10, 15],\n",
    "               'DTree__min_samples_split': [2, 3, 5, 7, 9],\n",
    "               'DTree__min_samples_leaf': [1,5,8,11],\n",
    "              }\n",
    "\n",
    "gridDtree = GridSearchCV(pipe5, parameters5, cv=5)\n",
    "gridDtree.fit(X_train, y_train)\n",
    "\n",
    "%time y_pred5 = gridDtree.predict(X_test)\n",
    "print('Dtree_Train Accuracy : %.3f'%gridDtree.best_estimator_.score(X_train, y_train))\n",
    "print('Dtree_Test Accuracy : %.3f'%gridDtree.best_estimator_.score(X_test, y_test))\n",
    "print('Dtree_Best Accuracy Through Grid Search : %.3f'%gridDtree.best_score_)\n",
    "print('Dtree_Best Parameters : ',gridDtree.best_params_)\n",
    "print(15*'--->--->')\n",
    "print('classification_report: \\n',  classification_report(y_test, y_pred5)) "
   ]
  },
  {
   "cell_type": "markdown",
   "id": "da6d66b0",
   "metadata": {},
   "source": [
    "**Random Forest Classifier**"
   ]
  },
  {
   "cell_type": "code",
   "execution_count": null,
   "id": "a6935c33",
   "metadata": {},
   "outputs": [
    {
     "name": "stdout",
     "output_type": "stream",
     "text": [
      "Fitting 8 folds for each of 4 candidates, totalling 32 fits\n"
     ]
    }
   ],
   "source": [
    "from sklearn.ensemble import RandomForestClassifier\n",
    "\n",
    "pipe6 = Pipeline([('vectr', CountVectorizer()),\n",
    "                ('tfidf', TfidfTransformer()),\n",
    "                ('RF', RandomForestClassifier(n_estimators=100,criterion='gini', max_features='auto',\n",
    "                                               random_state=None ,min_samples_leaf=1)),\n",
    "               ])\n",
    "\n",
    "parameters6 = {'vectr__ngram_range': [(1,1),(1,2)],\n",
    "               'RF__n_estimators': [100,200],\n",
    "                'RF__criterion': ['gini'],\n",
    "               'RF__min_samples_split': [2],\n",
    "               'RF__min_samples_leaf': [1],\n",
    "              }\n",
    "\n",
    "gridRF = GridSearchCV(pipe6, parameters6 ,cv=8, verbose=1, n_jobs=-1)\n",
    "gridRF.fit(X_train, y_train)\n",
    "\n",
    "%time y_pred6 = gridRF.predict(X_test)\n",
    "print('RF_Train Accuracy : %.3f'%gridRF.best_estimator_.score(X_train, y_train))\n",
    "print('RF_Test Accuracy : %.3f'%gridRF.best_estimator_.score(X_test, y_test))\n",
    "print('RF_Best Accuracy Through Grid Search : %.3f'%gridRF.best_score_)\n",
    "print('RF_Best Parameters : ',gridRF.best_params_)\n",
    "print(15*'--->--->')\n",
    "print('classification_report: \\n',  classification_report(y_test, y_pred6)) "
   ]
  },
  {
   "cell_type": "markdown",
   "id": "6e3999c6",
   "metadata": {},
   "source": [
    "**Support Vector Classification**"
   ]
  },
  {
   "cell_type": "code",
   "execution_count": null,
   "id": "9169a80e",
   "metadata": {},
   "outputs": [
    {
     "name": "stdout",
     "output_type": "stream",
     "text": [
      "Fitting 3 folds for each of 54 candidates, totalling 162 fits\n",
      "CPU times: total: 9.89 s\n",
      "Wall time: 9.99 s\n",
      "SVC_Train Accuracy : 1.000\n",
      "SVC_Test Accuracy : 0.813\n",
      "SVC_Best Accuracy Through Grid Search : 0.801\n",
      "SVC_Best Parameters :  {'SVC__C': 10, 'SVC__cache_size': 50, 'SVC__degree': 1, 'SVC__kernel': 'rbf', 'vectr__ngram_range': (1, 2)}\n",
      "--->--->--->--->--->--->--->--->--->--->--->--->--->--->--->--->--->--->--->--->--->--->--->--->--->--->--->--->--->--->\n",
      "classification_report: \n",
      "               precision    recall  f1-score   support\n",
      "\n",
      "           0       0.82      0.82      0.82      1493\n",
      "           1       0.80      0.81      0.80      1369\n",
      "\n",
      "    accuracy                           0.81      2862\n",
      "   macro avg       0.81      0.81      0.81      2862\n",
      "weighted avg       0.81      0.81      0.81      2862\n",
      "\n"
     ]
    }
   ],
   "source": [
    "from sklearn.svm import SVC\n",
    "\n",
    "pipe7 = Pipeline([('vectr', CountVectorizer()),\n",
    "                ('tfidf', TfidfTransformer()),\n",
    "                ('SVC', SVC(C=1.0, kernel='rbf', max_iter=-1,\n",
    "                                random_state=None ,cache_size=200)),\n",
    "               ])\n",
    "\n",
    "parameters7 = {'vectr__ngram_range': [(1,1),(1,2)],\n",
    "               'SVC__C': [0.1,1,10],\n",
    "                'SVC__kernel': ['rbf'],\n",
    "              'SVC__degree': [1,2,3],\n",
    "               'SVC__cache_size': [50,100,200]\n",
    "              }\n",
    "\n",
    "gridSVC = GridSearchCV(pipe7, parameters7 ,cv=3, verbose=3, n_jobs=-1)\n",
    "gridSVC.fit(X_train, y_train)\n",
    "\n",
    "%time y_pred7 = gridSVC.predict(X_test)\n",
    "print('SVC_Train Accuracy : %.3f'%gridSVC.best_estimator_.score(X_train, y_train))\n",
    "print('SVC_Test Accuracy : %.3f'%gridSVC.best_estimator_.score(X_test, y_test))\n",
    "print('SVC_Best Accuracy Through Grid Search : %.3f'%gridSVC.best_score_)\n",
    "print('SVC_Best Parameters : ',gridSVC.best_params_)\n",
    "print(15*'--->--->')\n",
    "print('classification_report: \\n',  classification_report(y_test, y_pred7)) "
   ]
  },
  {
   "cell_type": "markdown",
   "id": "d2f88c52",
   "metadata": {},
   "source": [
    "**Gradient Boosting Classifier**"
   ]
  },
  {
   "cell_type": "code",
   "execution_count": null,
   "id": "2a6efefc",
   "metadata": {},
   "outputs": [
    {
     "name": "stdout",
     "output_type": "stream",
     "text": [
      "Fitting 3 folds for each of 72 candidates, totalling 216 fits\n",
      "CPU times: total: 46.9 ms\n",
      "Wall time: 48.2 ms\n",
      "Boost_Train Accuracy : 0.874\n",
      "Boost_Test Accuracy : 0.755\n",
      "Boost_Best Accuracy Through Grid Search : 0.746\n",
      "Boost_Best Parameters :  {'BST__learning_rate': 0.5, 'BST__max_depth': 5, 'BST__n_estimators': 200, 'vectr__ngram_range': (1, 1)}\n",
      "--->--->--->--->--->--->--->--->--->--->--->--->--->--->--->--->--->--->--->--->--->--->--->--->--->--->--->--->--->--->\n",
      "classification_report: \n",
      "               precision    recall  f1-score   support\n",
      "\n",
      "           0       0.82      0.82      0.82      1493\n",
      "           1       0.80      0.81      0.80      1369\n",
      "\n",
      "    accuracy                           0.81      2862\n",
      "   macro avg       0.81      0.81      0.81      2862\n",
      "weighted avg       0.81      0.81      0.81      2862\n",
      "\n"
     ]
    }
   ],
   "source": [
    "from sklearn.ensemble import GradientBoostingClassifier\n",
    "\n",
    "\n",
    "pipe8 = Pipeline([('vectr', CountVectorizer(analyzer='word', preprocessor=None, min_df=1)),\n",
    "                  ('tfidf', TfidfTransformer()),\n",
    "                  ('BST', GradientBoostingClassifier(n_estimators=50, learning_rate=1.0, random_state=0)),\n",
    "                   ])\n",
    "\n",
    "                \n",
    "parameters8 = {'vectr__ngram_range': [(1,1),(1,2)],\n",
    "                    'BST__n_estimators': [50,100,200],\n",
    "                    'BST__max_depth': [3,4,5],\n",
    "                    'BST__learning_rate': [0.05,0.01,0.5,1.0]\n",
    "              }\n",
    "\n",
    "\n",
    "gridBoost = GridSearchCV(pipe8, parameters8, cv=3, verbose=3, n_jobs=-1)\n",
    "gridBoost.fit(X_train, y_train)\n",
    "\n",
    "%time y_pred8 = gridBoost.predict(X_test)\n",
    "print('Boost_Train Accuracy : %.3f'%gridBoost.best_estimator_.score(X_train, y_train))\n",
    "print('Boost_Test Accuracy : %.3f'%gridBoost.best_estimator_.score(X_test, y_test))\n",
    "print('Boost_Best Accuracy Through Grid Search : %.3f'%gridBoost.best_score_)\n",
    "print('Boost_Best Parameters : ',gridBoost.best_params_)\n",
    "print(15*'--->--->')\n",
    "print('classification_report: \\n',  classification_report(y_test, y_pred7))"
   ]
  },
  {
   "cell_type": "code",
   "execution_count": null,
   "id": "28fa76d6",
   "metadata": {},
   "outputs": [
    {
     "name": "stdout",
     "output_type": "stream",
     "text": [
      "MNB\n",
      "precision_score: 0.8157672916493938\n",
      "recall_score: 0.8151642208245982\n",
      "f1_score: 0.8152459448669404\n",
      "accuracy_score: 0.8151642208245982\n",
      "SGD\n",
      "precision_score: 0.813230657665537\n",
      "recall_score: 0.813067784765898\n",
      "f1_score: 0.8131133750963596\n",
      "accuracy_score: 0.813067784765898\n",
      "KN\n",
      "precision_score: 0.7616470450153116\n",
      "recall_score: 0.7389937106918238\n",
      "f1_score: 0.7305234707867467\n",
      "accuracy_score: 0.7389937106918238\n",
      "LR\n",
      "precision_score: 0.8085009212109592\n",
      "recall_score: 0.8081761006289309\n",
      "f1_score: 0.8082436882120148\n",
      "accuracy_score: 0.8081761006289309\n",
      "Dtree\n",
      "precision_score: 0.546313712476206\n",
      "recall_score: 0.5241090146750524\n",
      "f1_score: 0.3755502271354799\n",
      "accuracy_score: 0.5241090146750524\n",
      "RF\n",
      "precision_score: 0.7728357702673126\n",
      "recall_score: 0.7707896575821104\n",
      "f1_score: 0.769604692862399\n",
      "accuracy_score: 0.7707896575821104\n",
      "SVC\n",
      "precision_score: 0.8127735935329693\n",
      "recall_score: 0.8127183787561146\n",
      "f1_score: 0.8127396316419917\n",
      "accuracy_score: 0.8127183787561146\n",
      "BST\n",
      "precision_score: 0.7607693454906628\n",
      "recall_score: 0.7550663871418588\n",
      "f1_score: 0.75239251406838\n",
      "accuracy_score: 0.7550663871418588\n"
     ]
    }
   ],
   "source": [
    "from sklearn import  metrics # import library for getting scores\n",
    "\n",
    "models = []\n",
    "models.append(('MNB', gridMNB.best_estimator_))\n",
    "models.append(('SGD', gridSGD.best_estimator_))\n",
    "models.append(('KN', gridKN.best_estimator_))\n",
    "models.append(('LR', gridLR.best_estimator_))\n",
    "models.append(('Dtree', gridDtree.best_estimator_))\n",
    "models.append(('RF', gridRF.best_estimator_))\n",
    "models.append(('SVC', gridSVC.best_estimator_))\n",
    "models.append(('BST', gridBoost.best_estimator_))\n",
    "precision_score = []\n",
    "recall_score = []\n",
    "f1_score = []\n",
    "accuracy_score = []\n",
    "roc_auc_score = []\n",
    "for name, model in models:\n",
    "    print(name)\n",
    "    print(\"precision_score: {}\".format(metrics.precision_score(y_test , model.predict(X_test), average='weighted') ))\n",
    "    print(\"recall_score: {}\".format( metrics.recall_score(y_test , model.predict(X_test), average='weighted') ))\n",
    "    print(\"f1_score: {}\".format( metrics.f1_score(y_test , model.predict(X_test), average='weighted') ))\n",
    "    print(\"accuracy_score: {}\".format( metrics.accuracy_score(y_test , model.predict(X_test)) ))\n",
    "    \n",
    "\n",
    "    precision_score.append(metrics.precision_score(y_test , model.predict(X_test), average='weighted') )\n",
    "    recall_score.append(metrics.recall_score(y_test , model.predict(X_test), average='weighted') )\n",
    "    f1_score.append( metrics.f1_score(y_test , model.predict(X_test), average='weighted') )\n",
    "    accuracy_score.append(metrics.accuracy_score(y_test , model.predict(X_test)))\n"
   ]
  },
  {
   "cell_type": "markdown",
   "id": "c00ac6ef",
   "metadata": {},
   "source": [
    "## VISUALIZing the best MODEL "
   ]
  },
  {
   "cell_type": "code",
   "execution_count": null,
   "id": "2eca95bf",
   "metadata": {
    "scrolled": false
   },
   "outputs": [
    {
     "data": {
      "text/html": [
       "<div>\n",
       "<style scoped>\n",
       "    .dataframe tbody tr th:only-of-type {\n",
       "        vertical-align: middle;\n",
       "    }\n",
       "\n",
       "    .dataframe tbody tr th {\n",
       "        vertical-align: top;\n",
       "    }\n",
       "\n",
       "    .dataframe thead th {\n",
       "        text-align: right;\n",
       "    }\n",
       "</style>\n",
       "<table border=\"1\" class=\"dataframe\">\n",
       "  <thead>\n",
       "    <tr style=\"text-align: right;\">\n",
       "      <th></th>\n",
       "      <th>Model</th>\n",
       "      <th>precision_score</th>\n",
       "      <th>recall_score</th>\n",
       "      <th>f1_score</th>\n",
       "      <th>accuracy_score</th>\n",
       "    </tr>\n",
       "  </thead>\n",
       "  <tbody>\n",
       "    <tr>\n",
       "      <th>0</th>\n",
       "      <td>MNB</td>\n",
       "      <td>0.815767</td>\n",
       "      <td>0.815164</td>\n",
       "      <td>0.815246</td>\n",
       "      <td>0.815164</td>\n",
       "    </tr>\n",
       "    <tr>\n",
       "      <th>1</th>\n",
       "      <td>SGD</td>\n",
       "      <td>0.813231</td>\n",
       "      <td>0.813068</td>\n",
       "      <td>0.813113</td>\n",
       "      <td>0.813068</td>\n",
       "    </tr>\n",
       "    <tr>\n",
       "      <th>6</th>\n",
       "      <td>SVC</td>\n",
       "      <td>0.812774</td>\n",
       "      <td>0.812718</td>\n",
       "      <td>0.812740</td>\n",
       "      <td>0.812718</td>\n",
       "    </tr>\n",
       "    <tr>\n",
       "      <th>3</th>\n",
       "      <td>LogReg</td>\n",
       "      <td>0.808501</td>\n",
       "      <td>0.808176</td>\n",
       "      <td>0.808244</td>\n",
       "      <td>0.808176</td>\n",
       "    </tr>\n",
       "    <tr>\n",
       "      <th>5</th>\n",
       "      <td>DTree</td>\n",
       "      <td>0.772836</td>\n",
       "      <td>0.770790</td>\n",
       "      <td>0.769605</td>\n",
       "      <td>0.770790</td>\n",
       "    </tr>\n",
       "    <tr>\n",
       "      <th>7</th>\n",
       "      <td>BST</td>\n",
       "      <td>0.760769</td>\n",
       "      <td>0.755066</td>\n",
       "      <td>0.752393</td>\n",
       "      <td>0.755066</td>\n",
       "    </tr>\n",
       "    <tr>\n",
       "      <th>2</th>\n",
       "      <td>KNN</td>\n",
       "      <td>0.761647</td>\n",
       "      <td>0.738994</td>\n",
       "      <td>0.730523</td>\n",
       "      <td>0.738994</td>\n",
       "    </tr>\n",
       "    <tr>\n",
       "      <th>4</th>\n",
       "      <td>RandFor</td>\n",
       "      <td>0.546314</td>\n",
       "      <td>0.524109</td>\n",
       "      <td>0.375550</td>\n",
       "      <td>0.524109</td>\n",
       "    </tr>\n",
       "  </tbody>\n",
       "</table>\n",
       "</div>"
      ],
      "text/plain": [
       "     Model  precision_score  recall_score  f1_score  accuracy_score\n",
       "0      MNB         0.815767      0.815164  0.815246        0.815164\n",
       "1      SGD         0.813231      0.813068  0.813113        0.813068\n",
       "6      SVC         0.812774      0.812718  0.812740        0.812718\n",
       "3   LogReg         0.808501      0.808176  0.808244        0.808176\n",
       "5    DTree         0.772836      0.770790  0.769605        0.770790\n",
       "7      BST         0.760769      0.755066  0.752393        0.755066\n",
       "2      KNN         0.761647      0.738994  0.730523        0.738994\n",
       "4  RandFor         0.546314      0.524109  0.375550        0.524109"
      ]
     },
     "execution_count": 48,
     "metadata": {},
     "output_type": "execute_result"
    }
   ],
   "source": [
    "#creat the Data Frame for scores in models\n",
    "import pandas as pd\n",
    "scores = {'precision_score': precision_score, \n",
    "     'recall_score': recall_score, \n",
    "     'f1_score': f1_score,\n",
    "     'accuracy_score' : accuracy_score\n",
    "    }\n",
    "df = pd.DataFrame(data=scores)\n",
    "df.insert(loc=0, column='Model', value=['MNB', 'SGD','KNN','LogReg','RandFor','DTree','SVC', 'BST'])\n",
    "df.sort_values('accuracy_score',ascending=False)"
   ]
  },
  {
   "cell_type": "code",
   "execution_count": null,
   "id": "d991686e",
   "metadata": {
    "scrolled": true
   },
   "outputs": [],
   "source": [
    "#creat the Data Frame for accuracy scores\n",
    "acc = {\n",
    "     'accuracy_score' : accuracy_score\n",
    "    }\n",
    "df = pd.DataFrame(data=acc)\n",
    "df.insert(loc=0, column='Model', value=['MNB', 'SGD','KNN','LogReg','RandFor','DTree','SVC','BST'])\n",
    "#df"
   ]
  },
  {
   "cell_type": "code",
   "execution_count": null,
   "id": "638ff3d1",
   "metadata": {
    "scrolled": true
   },
   "outputs": [
    {
     "data": {
      "image/png": "[encoded data removed]",
      "text/plain": [
       "<Figure size 1152x720 with 1 Axes>"
      ]
     },
     "metadata": {},
     "output_type": "display_data"
    }
   ],
   "source": [
    "plt.figure(figsize = (16,10)) #plot the accuracy scores\n",
    "sns.barplot(x=df['Model'], y=df['accuracy_score'], data=df)\n",
    "plt.show()"
   ]
  },
  {
   "cell_type": "code",
   "execution_count": null,
   "id": "d32d6ef7",
   "metadata": {},
   "outputs": [
    {
     "data": {
      "image/png": "[encoded data removed]",
      "text/plain": [
       "<Figure size 576x432 with 2 Axes>"
      ]
     },
     "metadata": {},
     "output_type": "display_data"
    }
   ],
   "source": [
    "# Using counfusion matrix for best model(MultinomialNB )\n",
    "from sklearn.metrics import confusion_matrix,classification_report\n",
    "conf_mtx=confusion_matrix(y_pred1,y_test)\n",
    "\n",
    "plt.figure(figsize=(8,6))\n",
    "sns.heatmap(conf_mtx,annot=True,fmt='d',cmap='Blues')\n",
    "plt.title(\"0 - Non_sarcastic     1 - Sarcastic\")\n",
    "plt.show()"
   ]
  },
  {
   "cell_type": "code",
   "execution_count": null,
   "id": "9a8b7f55",
   "metadata": {},
   "outputs": [],
   "source": []
  },
  {
   "cell_type": "code",
   "execution_count": null,
   "id": "0133acac",
   "metadata": {},
   "outputs": [],
   "source": []
  },
  {
   "cell_type": "code",
   "execution_count": null,
   "id": "daf856a1",
   "metadata": {},
   "outputs": [],
   "source": []
  },
  {
   "cell_type": "code",
   "execution_count": null,
   "id": "5888d363",
   "metadata": {},
   "outputs": [],
   "source": []
  },
  {
   "cell_type": "code",
   "execution_count": null,
   "id": "a98f4e52",
   "metadata": {},
   "outputs": [],
   "source": []
  },
  {
   "cell_type": "code",
   "execution_count": null,
   "id": "6da87e80",
   "metadata": {},
   "outputs": [],
   "source": []
  },
  {
   "cell_type": "code",
   "execution_count": null,
   "id": "b5825a80",
   "metadata": {},
   "outputs": [],
   "source": []
  },
  {
   "cell_type": "code",
   "execution_count": null,
   "id": "6736897d",
   "metadata": {},
   "outputs": [],
   "source": []
  },
  {
   "cell_type": "code",
   "execution_count": null,
   "id": "e4fb7f08",
   "metadata": {},
   "outputs": [],
   "source": []
  },
  {
   "cell_type": "code",
   "execution_count": null,
   "id": "5d3b1f06",
   "metadata": {},
   "outputs": [],
   "source": []
  },
  {
   "cell_type": "code",
   "execution_count": null,
   "id": "845828c1",
   "metadata": {},
   "outputs": [],
   "source": []
  },
  {
   "cell_type": "code",
   "execution_count": null,
   "id": "0e57ef79",
   "metadata": {},
   "outputs": [],
   "source": []
  },
  {
   "cell_type": "code",
   "execution_count": null,
   "id": "1e80a730",
   "metadata": {},
   "outputs": [],
   "source": []
  },
  {
   "cell_type": "code",
   "execution_count": null,
   "id": "3f278763",
   "metadata": {},
   "outputs": [],
   "source": []
  },
  {
   "cell_type": "code",
   "execution_count": null,
   "id": "1dd71867",
   "metadata": {},
   "outputs": [],
   "source": []
  },
  {
   "cell_type": "code",
   "execution_count": null,
   "id": "81931e4a",
   "metadata": {},
   "outputs": [],
   "source": []
  },
  {
   "cell_type": "code",
   "execution_count": null,
   "id": "3cf38683",
   "metadata": {},
   "outputs": [],
   "source": []
  },
  {
   "cell_type": "code",
   "execution_count": null,
   "id": "0e7a0329",
   "metadata": {},
   "outputs": [],
   "source": []
  },
  {
   "cell_type": "code",
   "execution_count": null,
   "id": "2c6d3b47",
   "metadata": {},
   "outputs": [],
   "source": []
  }
 ],
 "metadata": {
  "kernelspec": {
   "display_name": "Python 3.9.13 64-bit (microsoft store)",
   "language": "python",
   "name": "python3"
  },
  "language_info": {
   "codemirror_mode": {
    "name": "ipython",
    "version": 3
   },
   "file_extension": ".py",
   "mimetype": "text/x-python",
   "name": "python",
   "nbconvert_exporter": "python",
   "pygments_lexer": "ipython3",
   "version": "3.9.13"
  },
  "vscode": {
   "interpreter": {
    "hash": "231b793e72510f63263cf75731d759da8776d8c74c3ed2dbefa0f0827e58fa6e"
   }
  }
 },
 "nbformat": 4,
 "nbformat_minor": 5
}
